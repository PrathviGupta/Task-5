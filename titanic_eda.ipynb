{
 "cells": [
  {
   "cell_type": "markdown",
   "id": "8faab792",
   "metadata": {},
   "source": [
    "# Titanic EDA\n",
    "\n",
    "This notebook runs an exploratory data analysis (EDA) on the Titanic dataset (`train.csv`).\n",
    "\n",
    "**Generated outputs:** plots and summary observations.\n"
   ]
  },
  {
   "cell_type": "code",
   "execution_count": null,
   "id": "b68a3c5b",
   "metadata": {},
   "outputs": [],
   "source": [
    "import pandas as pd\n",
    "train = pd.read_csv(r'/mnt/data/train.csv')\n",
    "train.shape\n"
   ]
  },
  {
   "cell_type": "code",
   "execution_count": null,
   "id": "6f955679",
   "metadata": {},
   "outputs": [],
   "source": [
    "train.head()\n",
    "\n",
    "train.info()\n",
    "\n",
    "train.describe(include='all')\n"
   ]
  },
  {
   "cell_type": "markdown",
   "id": "5447f038",
   "metadata": {},
   "source": [
    "## Quick observations\n",
    "- Train dataset shape: (891, 12)\n",
    "- Columns: PassengerId, Survived, Pclass, Name, Sex, Age, SibSp, Parch, Ticket, Fare, Cabin, Embarked\n",
    "- Top missing values: {'Cabin': 687, 'Age': 177, 'Embarked': 2}\n",
    "- Survival rate: 38.38% (342/891)\n",
    "- Females have a notably higher survival rate than males (see survival by Sex bar chart).\n",
    "- Higher Pclass passengers generally have higher fares and different age distributions (see boxplots).\n",
    "- Correlation matrix shows 'Pclass' negatively correlated with 'Fare' (note: Pclass is ordinal where 1=highest class) and 'Age' has low correlation with Survived."
   ]
  },
  {
   "cell_type": "code",
   "execution_count": null,
   "id": "b3d25559",
   "metadata": {},
   "outputs": [],
   "source": [
    "\n",
    "import matplotlib.pyplot as plt\n",
    "corr = train.select_dtypes(include=['number']).corr()\n",
    "plt.figure(figsize=(6,5))\n",
    "plt.imshow(corr, interpolation='nearest', aspect='auto')\n",
    "plt.colorbar()\n",
    "plt.xticks(range(len(corr.columns)), corr.columns, rotation=45, ha='right')\n",
    "plt.yticks(range(len(corr.index)), corr.index)\n",
    "plt.title(\"Correlation matrix (numeric columns)\")\n",
    "plt.show()\n"
   ]
  }
 ],
 "metadata": {},
 "nbformat": 4,
 "nbformat_minor": 5
}
